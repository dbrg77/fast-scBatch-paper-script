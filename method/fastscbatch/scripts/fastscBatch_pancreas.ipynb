{
 "cells": [
  {
   "cell_type": "code",
   "execution_count": null,
   "metadata": {},
   "outputs": [],
   "source": [
    "import numpy as np\n",
    "import pandas as pd\n",
    "import scanpy as sc\n",
    "import anndata\n",
    "import sys\n",
    "sys.path.append(\"../\")\n",
    "import fast_scBatch\n",
    "from tqdm import trange"
   ]
  },
  {
   "cell_type": "code",
   "execution_count": null,
   "metadata": {},
   "outputs": [],
   "source": [
    "cell = anndata.read_h5ad(f\"../../../realdata/pancreas/data.h5ad\")\n",
    "batch = cell.obs[[\"batch\"]].copy()\n",
    "ctype = cell.obs[[\"celltype\"]].copy()\n",
    "cells = cell.to_df().T\n",
    "corr = pd.read_csv(f\"../../fastqn/corr_pancreas.csv\", index_col=0)\n",
    "corr.columns = cells.columns\n",
    "corr.index = cells.columns\n",
    "p, n = cells.shape\n",
    "res = fast_scBatch.solver(cells, corr, batch, p=0.3, k=50,\n",
    "\tlr=(0.0002, 0.0001, 0.0003), EPOCHS=(0, 0, 500), verbose=True)\n",
    "adata = anndata.AnnData(X=res.T, obs=cell.obs, var=cell.var)\n",
    "adata.write(\"../results/fastscbatch_pancreas.h5ad\")"
   ]
  },
  {
   "cell_type": "code",
   "execution_count": null,
   "metadata": {},
   "outputs": [],
   "source": [
    "print(adata)\n",
    "sc.pp.neighbors(adata)\n",
    "sc.tl.umap(adata)\n",
    "sc.pl.umap(adata, color=[\"batch\", \"celltype\"], wspace=0.5)"
   ]
  }
 ],
 "metadata": {
  "kernelspec": {
   "display_name": "torch",
   "language": "python",
   "name": "python3"
  },
  "language_info": {
   "codemirror_mode": {
    "name": "ipython",
    "version": 3
   },
   "file_extension": ".py",
   "mimetype": "text/x-python",
   "name": "python",
   "nbconvert_exporter": "python",
   "pygments_lexer": "ipython3",
   "version": "3.11.7"
  }
 },
 "nbformat": 4,
 "nbformat_minor": 2
}
