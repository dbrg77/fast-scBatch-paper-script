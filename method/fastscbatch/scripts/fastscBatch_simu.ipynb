{
 "cells": [
  {
   "cell_type": "code",
   "execution_count": null,
   "metadata": {},
   "outputs": [],
   "source": [
    "import numpy as np\n",
    "import pandas as pd\n",
    "import scanpy as sc\n",
    "import anndata\n",
    "import sys\n",
    "sys.path.append(\"../\")\n",
    "import fast_scBatch\n",
    "from tqdm import trange"
   ]
  },
  {
   "cell_type": "code",
   "execution_count": null,
   "metadata": {},
   "outputs": [],
   "source": [
    "for i in trange(1, 30):\n",
    "\tcell = anndata.read(f\"../../../simulation/data/data{i}.h5ad\")\n",
    "\tbatch = cell.obs[[\"Batch\"]].copy()\n",
    "\tcells = cell.to_df().T\n",
    "\t# corr = pd.read_csv(f\"../../quantnorm/results/quantnorm_simu{i}.csv\", index_col=0)\n",
    "\tcorr = pd.read_csv(f\"../../fastqn/corr_simu.csv\", index_col=0)\n",
    "\tcorr.columns = cells.columns\n",
    "\tcorr.index = cells.columns\n",
    "\tp, n = cells.shape\n",
    "\tres = fast_scBatch.solver(cells, corr, batch, p=0.3, k=20,\n",
    "\t\tlr=(0.0002, 0.0001, 0.0001), EPOCHS=(0, 0, 2000), verbose=False)\n",
    "\tadata = anndata.AnnData(X=res.T, obs=cell.obs, var=cell.var)\n",
    "\tadata.write(f\"../results/fastscbatch_simu{i}.h5ad\")"
   ]
  },
  {
   "cell_type": "code",
   "execution_count": null,
   "metadata": {},
   "outputs": [],
   "source": [
    "print(adata)\n",
    "sc.pp.neighbors(adata)\n",
    "sc.tl.umap(adata)\n",
    "sc.pl.umap(adata, color=[\"Batch\", \"Group\"], wspace=0.5, frameon=False)"
   ]
  }
 ],
 "metadata": {
  "kernelspec": {
   "display_name": "torch",
   "language": "python",
   "name": "python3"
  },
  "language_info": {
   "codemirror_mode": {
    "name": "ipython",
    "version": 3
   },
   "file_extension": ".py",
   "mimetype": "text/x-python",
   "name": "python",
   "nbconvert_exporter": "python",
   "pygments_lexer": "ipython3",
   "version": "3.11.7"
  }
 },
 "nbformat": 4,
 "nbformat_minor": 2
}
