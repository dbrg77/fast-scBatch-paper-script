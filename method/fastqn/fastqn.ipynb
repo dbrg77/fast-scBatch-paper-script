{
 "cells": [
  {
   "cell_type": "code",
   "execution_count": null,
   "metadata": {},
   "outputs": [],
   "source": [
    "import numpy as np\n",
    "import pandas as pd\n",
    "import matplotlib.pyplot as plt\n",
    "import seaborn as sns\n",
    "import torch\n",
    "import torch.nn as nn\n",
    "import scanpy as sc\n",
    "import anndata\n",
    "from tqdm import trange"
   ]
  },
  {
   "cell_type": "code",
   "execution_count": null,
   "metadata": {},
   "outputs": [],
   "source": [
    "for cas in trange(1, 21):\n",
    "\tadata = anndata.read_h5ad(f\"../../simulation/sample/sample{cas}.h5ad\")\n",
    "\tprint(adata)\n",
    "\tbat = adata.obs[[\"Batch\"]].copy()\n",
    "\trawdat = adata.X#.toarray()\n",
    "\trawcorr = torch.corrcoef(torch.tensor(rawdat))\n",
    "\n",
    "\tdat = rawdat\n",
    "\tbat = bat.iloc[:, 0]\n",
    "\tmx = bat.value_counts().idxmax()\n",
    "\tref_block = dat[bat == mx]\n",
    "\tref_corr = torch.corrcoef(torch.tensor(ref_block))\n",
    "\tdattype = bat.unique()\n",
    "\n",
    "\tcorr = rawcorr\n",
    "\tvec = ref_corr.reshape(-1).sort()[0]\n",
    "\tfor i in dattype:\n",
    "\t\tfor j in dattype:\n",
    "\t\t\tif i == mx and j == mx:\n",
    "\t\t\t\tcontinue\n",
    "\t\t\tblock = corr[bat == i][:, bat == j]\n",
    "\t\t\tblock_ = block.reshape(-1)\n",
    "\t\t\tidx = block_.argsort()\n",
    "\t\t\tpos = torch.zeros_like(idx, dtype=torch.float)\n",
    "\t\t\tpos[idx] = torch.arange(len(idx), dtype=torch.float)\n",
    "\t\t\tpos = pos / len(block_) * len(vec)\n",
    "\t\t\tpos = torch.maximum(pos.int() - 1, torch.zeros_like(pos, dtype=torch.int))\n",
    "\t\t\tblock_ = vec[pos]\n",
    "\t\t\tblock_ = block_.reshape(block.shape)\n",
    "\t\t\t\n",
    "\t\t\tmsk = (torch.tensor(bat == i, dtype=torch.bool).unsqueeze(1) &\n",
    "\t\t\t\t   torch.tensor(bat == j, dtype=torch.bool).unsqueeze(0))\n",
    "\t\t\tcorr.masked_scatter_(msk, block_)\n",
    "\n",
    "\tfor epoch in range(1):\n",
    "\t\tbatmsk = {i: (bat != i).to_numpy() for i in dattype}\n",
    "\t\tfor i in trange(len(corr)):\n",
    "\t\t\tcurbat = batmsk[bat[i]]\n",
    "\t\t\tblock = corr[i, curbat]\n",
    "\t\t\tidx = block.argsort().int()\n",
    "\t\t\tpos = torch.zeros_like(idx, dtype=torch.float)\n",
    "\t\t\tpos[idx] = torch.arange(len(idx), dtype=torch.float)\n",
    "\t\t\tpos = pos / len(block) * len(vec)\n",
    "\t\t\tpos = torch.maximum(pos.int() - 1, torch.zeros_like(pos, dtype=torch.int))\n",
    "\t\t\tblock = vec[pos]\n",
    "\t\t\tmsk = torch.zeros_like(corr, dtype=torch.bool)\n",
    "\t\t\tmsk[i] |= torch.tensor(curbat, dtype=torch.bool)\n",
    "\t\t\tmsk = msk.bool()\n",
    "\t\t\tcorr.masked_scatter_(msk, block)\n",
    "\t\tcorr = (corr + corr.T) / 2\n",
    "\n",
    "\tpd.DataFrame(corr.numpy()).to_csv(f\"sample/sample{cas}.csv\")"
   ]
  }
 ],
 "metadata": {
  "kernelspec": {
   "display_name": "torch",
   "language": "python",
   "name": "python3"
  },
  "language_info": {
   "codemirror_mode": {
    "name": "ipython",
    "version": 3
   },
   "file_extension": ".py",
   "mimetype": "text/x-python",
   "name": "python",
   "nbconvert_exporter": "python",
   "pygments_lexer": "ipython3",
   "version": "3.11.7"
  }
 },
 "nbformat": 4,
 "nbformat_minor": 2
}
