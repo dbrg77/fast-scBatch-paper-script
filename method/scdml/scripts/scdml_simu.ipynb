{
 "cells": [
  {
   "cell_type": "code",
   "execution_count": null,
   "metadata": {},
   "outputs": [],
   "source": [
    "import scDML\n",
    "print(scDML.__version__)\n",
    "import scanpy as sc \n",
    "import numpy as np\n",
    "from scDML import scDMLModel\n",
    "from scDML.utils import print_dataset_information\n",
    "import matplotlib.pyplot as plt\n",
    "import anndata\n",
    "\n",
    "import os\n",
    "os.system(\"clear\")"
   ]
  },
  {
   "cell_type": "code",
   "execution_count": null,
   "metadata": {},
   "outputs": [],
   "source": [
    "for i in range(1, 31):\n",
    "\tadata = anndata.read_h5ad(f\"../../../simulation/data/data{i}.h5ad\")\n",
    "\tadata.X = adata.X - adata.X.min()\n",
    "\tmodel = scDMLModel(save_dir=\"./tmp/\", verbose=False)\n",
    "\tsc.pp.normalize_total(adata,target_sum=1e4)\n",
    "\tsc.pp.log1p(adata)\n",
    "\tsc.pp.scale(adata)\n",
    "\tsc.tl.pca(adata)\n",
    "\tsc.pp.neighbors(adata)\n",
    "\tsc.tl.louvain(adata,resolution=1,key_added=\"init_cluster\")\n",
    "\tmodel.integrate(adata,batch_key=\"Batch\",ncluster_list=[4],\n",
    "\t\t\t\t\texpect_num_cluster=4,merge_rule=\"rule2\")\n",
    "\tn_pc = 32\n",
    "\tres = adata.obsm[\"X_emb\"] @ np.diag(adata.uns[\"pca\"][\"variance_ratio\"][:n_pc]) @ adata.varm[\"PCs\"][:,:n_pc].T\n",
    "\tres = anndata.AnnData(X=res, obs=adata.obs)\n",
    "\tres.write(f\"../results/scdml_simu{i}.h5ad\")"
   ]
  }
 ],
 "metadata": {
  "kernelspec": {
   "display_name": "torch",
   "language": "python",
   "name": "python3"
  },
  "language_info": {
   "codemirror_mode": {
    "name": "ipython",
    "version": 3
   },
   "file_extension": ".py",
   "mimetype": "text/x-python",
   "name": "python",
   "nbconvert_exporter": "python",
   "pygments_lexer": "ipython3",
   "version": "3.11.7"
  }
 },
 "nbformat": 4,
 "nbformat_minor": 2
}
