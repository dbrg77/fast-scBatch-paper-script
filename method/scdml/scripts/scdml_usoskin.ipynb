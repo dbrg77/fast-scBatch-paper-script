{
 "cells": [
  {
   "cell_type": "code",
   "execution_count": null,
   "metadata": {},
   "outputs": [],
   "source": [
    "import scDML\n",
    "print(scDML.__version__)\n",
    "import scanpy as sc \n",
    "import torch\n",
    "import numpy as np\n",
    "from scDML import scDMLModel\n",
    "from scDML.utils import print_dataset_information\n",
    "import matplotlib.pyplot as plt\n",
    "import anndata\n",
    "\n",
    "import os\n",
    "os.system(\"clear\")"
   ]
  },
  {
   "cell_type": "code",
   "execution_count": null,
   "metadata": {},
   "outputs": [],
   "source": [
    "adata = anndata.read_h5ad(f\"../../../realdata/usoskin/data.h5ad\")\n",
    "adata.X = adata.X - adata.X.min()\n",
    "model = scDMLModel(save_dir=\"./tmp/\", verbose=False)\n",
    "sc.pp.normalize_total(adata,target_sum=1e4)\n",
    "sc.pp.log1p(adata)\n",
    "sc.pp.scale(adata)\n",
    "sc.tl.pca(adata)\n",
    "sc.pp.neighbors(adata)\n",
    "sc.tl.louvain(adata,resolution=3.0,key_added=\"init_cluster\")\n",
    "model.integrate(adata,batch_key=\"batch\",ncluster_list=[10],\n",
    "\t\t\t\texpect_num_cluster=10,merge_rule=\"rule2\")\n",
    "n_pc = 32\n",
    "res = adata.obsm[\"X_emb\"] @ np.diag(adata.uns[\"pca\"][\"variance_ratio\"][:n_pc]) @ adata.varm[\"PCs\"][:,:n_pc].T\n",
    "res = anndata.AnnData(X=res, obs=adata.obs)\n",
    "res.write(f\"../results/scdml_usoskin.h5ad\")"
   ]
  }
 ],
 "metadata": {
  "kernelspec": {
   "display_name": "torch",
   "language": "python",
   "name": "python3"
  },
  "language_info": {
   "codemirror_mode": {
    "name": "ipython",
    "version": 3
   },
   "file_extension": ".py",
   "mimetype": "text/x-python",
   "name": "python",
   "nbconvert_exporter": "python",
   "pygments_lexer": "ipython3",
   "version": "3.11.7"
  }
 },
 "nbformat": 4,
 "nbformat_minor": 2
}
