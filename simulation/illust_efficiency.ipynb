{
 "cells": [
  {
   "cell_type": "code",
   "execution_count": null,
   "metadata": {},
   "outputs": [],
   "source": [
    "import random\n",
    "import torch\n",
    "import torch.nn as nn\n",
    "import numpy as np\n",
    "import pandas as pd\n",
    "import matplotlib.pyplot as plt\n",
    "import anndata\n",
    "import time\n",
    "from tqdm import trange\n",
    "import sys\n",
    "sys.path.append(\"../method/fastscbatch/\")\n",
    "import fast_scBatch\n",
    "\n",
    "torch.manual_seed(42)\n",
    "np.random.seed(42)\n",
    "random.seed(42)\n",
    "device = torch.device(\"cpu\")"
   ]
  },
  {
   "cell_type": "code",
   "execution_count": null,
   "metadata": {},
   "outputs": [],
   "source": [
    "class Network(nn.Module):\n",
    "\tdef __init__(self) -> None:\n",
    "\t\tsuper(Network, self).__init__()\n",
    "\t\tself.alpha = nn.Parameter(torch.eye(n))\n",
    "\t\tself.beta = nn.Parameter(torch.zeros(p, n))\n",
    "\tdef forward(self, X):\n",
    "\t\treturn torch.matmul(X, self.alpha) + self.beta\n",
    "def loss(Y, std):\n",
    "\tcorr = torch.corrcoef(Y.T)\n",
    "\treturn torch.norm(corr - std, p='fro')\n",
    "n_set = [240, 360, 600, 840, 960,\n",
    "\t\t1440, 2160, 3000, 4020, 5100,\n",
    "\t\t6000, 7020]"
   ]
  },
  {
   "cell_type": "code",
   "execution_count": null,
   "metadata": {},
   "outputs": [],
   "source": [
    "time1 = []\n",
    "for i in trange(1, 13):\n",
    "\tcell = anndata.read_h5ad(f\"./sample/sample{i}.h5ad\")\n",
    "\tbatch = cell.obs[[\"Batch\"]].copy()\n",
    "\tcells = cell.to_df().T\n",
    "\tcorr = pd.read_csv(f\"../method/fastqn/sample/sample{i}.csv\", index_col=0)\n",
    "\ttime_s = time.time()\n",
    "\tcorr.columns = cells.columns\n",
    "\tcorr.index = cells.columns\n",
    "\tp, n = cells.shape\n",
    "\tcells = cells.values\n",
    "\tcorr = corr.values\n",
    "\tX = torch.from_numpy(cells).float().to(device)\n",
    "\tD = torch.from_numpy(corr).float().to(device)\n",
    "\n",
    "\tmodel = Network().to(device)\n",
    "\toptimizer = torch.optim.Adam(model.parameters(), lr=0.0002)\n",
    "\tEPOCHS = 300\n",
    "\tlosses = []\n",
    "\tfor epoch in range(EPOCHS):\n",
    "\t\toptimizer.zero_grad()\n",
    "\t\tY = model(X)\n",
    "\t\tloss_val = loss(Y, D)\n",
    "\t\tlosses.append(loss_val.item())\n",
    "\t\tloss_val.backward()\n",
    "\t\toptimizer.step()\n",
    "\tmodel.eval()\n",
    "\tY = model(X)\n",
    "\tadata = anndata.AnnData(X=Y.cpu().detach().numpy().T, obs=cell.obs, var=cell.var)\n",
    "\ttime_t = time.time()\n",
    "\ttime1.append(time_t - time_s)"
   ]
  },
  {
   "cell_type": "code",
   "execution_count": null,
   "metadata": {},
   "outputs": [],
   "source": [
    "time2 = []\n",
    "for i in trange(1, 13):\n",
    "\tcell = anndata.read(f\"./sample/sample{i}.h5ad\")\n",
    "\tbatch = cell.obs[[\"Batch\"]].copy()\n",
    "\tcells = cell.to_df().T\n",
    "\tcorr = pd.read_csv(f\"../method/fastqn/sample/sample{i}.csv\", index_col=0)\n",
    "\ttime_s = time.time()\n",
    "\tcorr.columns = cells.columns\n",
    "\tcorr.index = cells.columns\n",
    "\tp, n = cells.shape\n",
    "\tres = fast_scBatch.solver(cells, corr, batch, p=0.3, k=20,\n",
    "\t\tlr=(0.0002, 0.0001, 0.0001), EPOCHS=(0, 0, 300), verbose=False)\n",
    "\tadata = anndata.AnnData(X=res.T, obs=cell.obs, var=cell.var)\n",
    "\ttime_t = time.time()\n",
    "\ttime2.append(time_t - time_s)"
   ]
  },
  {
   "cell_type": "code",
   "execution_count": null,
   "metadata": {},
   "outputs": [],
   "source": [
    "plt.figure()\n",
    "plt.plot(n_set, time1, label=\"scBatch\")\n",
    "plt.plot(n_set, time2, label=\"fast-scBatch\")\n",
    "plt.xlabel(\"Number of cells\")\n",
    "plt.legend()\n",
    "ax = plt.gca()\n",
    "ax.set_ylim(0, 300)\n",
    "plt.savefig(\"simu_efficiency.png\")"
   ]
  }
 ],
 "metadata": {
  "kernelspec": {
   "display_name": "torch",
   "language": "python",
   "name": "python3"
  },
  "language_info": {
   "codemirror_mode": {
    "name": "ipython",
    "version": 3
   },
   "file_extension": ".py",
   "mimetype": "text/x-python",
   "name": "python",
   "nbconvert_exporter": "python",
   "pygments_lexer": "ipython3",
   "version": "3.11.7"
  }
 },
 "nbformat": 4,
 "nbformat_minor": 2
}
