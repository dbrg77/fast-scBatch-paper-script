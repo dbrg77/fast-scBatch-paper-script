{
 "cells": [
  {
   "cell_type": "code",
   "execution_count": null,
   "metadata": {},
   "outputs": [],
   "source": [
    "import numpy as np\n",
    "import pandas as pd\n",
    "import matplotlib.pyplot as plt\n",
    "import seaborn as sns\n",
    "import scanpy as sc\n",
    "import anndata\n",
    "from sklearn.decomposition import PCA\n",
    "from sklearn.metrics import adjusted_rand_score, adjusted_mutual_info_score\n",
    "from tqdm import trange"
   ]
  },
  {
   "cell_type": "code",
   "execution_count": null,
   "metadata": {},
   "outputs": [],
   "source": [
    "methods = (\"fastscbatch\", \"scbatch\", \"combat\", \"mnn\", \"limma\", \"scdml\", \"raw\")\n",
    "ARI = {method: 0 for method in methods}\n",
    "AMI = {method: 0 for method in methods}\n",
    "\n",
    "fig, ax = plt.subplots(2, 7, figsize=(21, 7))\n",
    "bat = None\n",
    "\n",
    "for method in methods:\n",
    "\tif method == \"raw\":\n",
    "\t\tadata = sc.read_h5ad(\"./data.h5ad\")\n",
    "\telse:\n",
    "\t\tadata = sc.read_h5ad(f\"../../method/{method}/results/{method}_usoskin.h5ad\")\n",
    "\tif bat is None:\n",
    "\t\tbat = adata.obs[\"batch\"]\n",
    "\tadata.obs[\"batch\"] = bat\n",
    "\tsc.pp.neighbors(adata, n_neighbors=25, use_rep=\"X\", random_state=0)\n",
    "\tsc.tl.umap(adata)\n",
    "\tsc.pl.umap(adata, color=\"batch\", ax=ax[0, methods.index(method)], show=False)\n",
    "\tsc.pl.umap(adata, color=\"celltype\", ax=ax[1, methods.index(method)], show=False)\n",
    "\tsc.tl.leiden(adata)\n",
    "\tARI[method] = adjusted_rand_score(adata.obs[\"leiden\"], adata.obs[\"celltype\"])\n",
    "\tAMI[method] = adjusted_mutual_info_score(adata.obs[\"leiden\"], adata.obs[\"celltype\"])\n",
    "\n",
    "for i in range(2):\n",
    "\tfor j in range(7):\n",
    "\t\tif j != 6:\n",
    "\t\t\tax[i, j].get_legend().remove()\n",
    "\t\tax[i, j].set_xlabel(\"\")\n",
    "\t\tax[i, j].set_ylabel(\"\")\n",
    "\t\tax[i, j].set_title(\"\")\n",
    "ax[0, 0].set_ylabel(\"Batch\")\n",
    "ax[1, 0].set_ylabel(\"Celltype\")\n",
    "for j, method in enumerate(methods):\n",
    "\tax[0, j].set_title(method)\n",
    "plt.tight_layout()\n",
    "plt.savefig(\"../../figures/usoskin_umap.png\")"
   ]
  },
  {
   "cell_type": "code",
   "execution_count": null,
   "metadata": {},
   "outputs": [],
   "source": [
    "del ARI[\"raw\"]\n",
    "del AMI[\"raw\"]\n",
    "fig, ax = plt.subplots(1, 2, figsize=(10, 5))\n",
    "sns.barplot(x=list(ARI.keys()), y=list(ARI.values()), ax=ax[0], palette=\"viridis\")\n",
    "sns.barplot(x=list(AMI.keys()), y=list(AMI.values()), ax=ax[1], palette=\"viridis\")\n",
    "ax[0].set_title(\"ARI\")\n",
    "ax[1].set_title(\"AMI\")\n",
    "plt.tight_layout()\n",
    "plt.savefig(\"../../figures/usoskin_metrics.png\")"
   ]
  }
 ],
 "metadata": {
  "kernelspec": {
   "display_name": "torch",
   "language": "python",
   "name": "python3"
  },
  "language_info": {
   "codemirror_mode": {
    "name": "ipython",
    "version": 3
   },
   "file_extension": ".py",
   "mimetype": "text/x-python",
   "name": "python",
   "nbconvert_exporter": "python",
   "pygments_lexer": "ipython3",
   "version": "3.11.7"
  }
 },
 "nbformat": 4,
 "nbformat_minor": 2
}
